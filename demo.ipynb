{
 "cells": [
  {
   "cell_type": "code",
   "execution_count": 6,
   "metadata": {},
   "outputs": [
    {
     "ename": "AttributeError",
     "evalue": "'CE' object has no attribute 'get_price_profile'",
     "output_type": "error",
     "traceback": [
      "\u001b[0;31m---------------------------------------------------------------------------\u001b[0m",
      "\u001b[0;31mAttributeError\u001b[0m                            Traceback (most recent call last)",
      "Cell \u001b[0;32mIn[6], line 9\u001b[0m\n\u001b[1;32m      7\u001b[0m my_CE \u001b[39m=\u001b[39m CE()\n\u001b[1;32m      8\u001b[0m my_CE\u001b[39m.\u001b[39mload_price_data(csv_file_path \u001b[39m=\u001b[39m ROOT_DIR \u001b[39m/\u001b[39m \u001b[39m'\u001b[39m\u001b[39mdata\u001b[39m\u001b[39m'\u001b[39m \u001b[39m/\u001b[39m \u001b[39m'\u001b[39m\u001b[39mprice_profiles\u001b[39m\u001b[39m'\u001b[39m \u001b[39m/\u001b[39m \u001b[39m'\u001b[39m\u001b[39mprices2012-2023.csv\u001b[39m\u001b[39m'\u001b[39m)\n\u001b[0;32m----> 9\u001b[0m \u001b[39mprint\u001b[39m(my_CE\u001b[39m.\u001b[39;49mget_price_profile)\n",
      "\u001b[0;31mAttributeError\u001b[0m: 'CE' object has no attribute 'get_price_profile'"
     ]
    }
   ],
   "source": [
    "from drone.confidence_estimator import CE\n",
    "from pathlib import Path\n",
    "import pandas as pd\n",
    "\n",
    "ce = CE()\n",
    "ROOT_DIR = Path().resolve()\n",
    "my_CE = CE()\n",
    "my_CE.load_price_data(csv_file_path = ROOT_DIR / 'data' / 'price_profiles' / 'prices2012-2023.csv')\n",
    "print(my_CE.get_price_profile)"
   ]
  }
 ],
 "metadata": {
  "kernelspec": {
   "display_name": ".venv",
   "language": "python",
   "name": "python3"
  },
  "language_info": {
   "codemirror_mode": {
    "name": "ipython",
    "version": 3
   },
   "file_extension": ".py",
   "mimetype": "text/x-python",
   "name": "python",
   "nbconvert_exporter": "python",
   "pygments_lexer": "ipython3",
   "version": "3.10.10"
  },
  "orig_nbformat": 4
 },
 "nbformat": 4,
 "nbformat_minor": 2
}
