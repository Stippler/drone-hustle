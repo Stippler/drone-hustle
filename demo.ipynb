{
 "cells": [
  {
   "cell_type": "code",
   "execution_count": 10,
   "metadata": {},
   "outputs": [
    {
     "name": "stdout",
     "output_type": "stream",
     "text": [
      "                     actual\n",
      "date                       \n",
      "2012-01-01 00:00:00   25.12\n",
      "2012-01-01 01:00:00   23.64\n",
      "2012-01-01 02:00:00   19.03\n",
      "2012-01-01 03:00:00   15.97\n",
      "2012-01-01 04:00:00   15.90\n",
      "...                     ...\n",
      "2022-12-31 19:00:00   -1.01\n",
      "2022-12-31 20:00:00   -1.39\n",
      "2022-12-31 21:00:00   -1.04\n",
      "2022-12-31 22:00:00   -1.07\n",
      "2022-12-31 23:00:00   -0.68\n",
      "\n",
      "[96432 rows x 1 columns]\n"
     ]
    }
   ],
   "source": [
    "from drone.confidence_estimator import CE\n",
    "from pathlib import Path\n",
    "import pandas as pd\n",
    "\n",
    "ce = CE()\n",
    "ROOT_DIR = Path().resolve()\n",
    "my_CE = CE()\n",
    "my_CE.load_price_data(csv_file_path = ROOT_DIR / 'data' / 'price_profiles' / 'prices2012-2023.csv')\n",
    "print(my_CE.get_price_data())"
   ]
  }
 ],
 "metadata": {
  "kernelspec": {
   "display_name": ".venv",
   "language": "python",
   "name": "python3"
  },
  "language_info": {
   "codemirror_mode": {
    "name": "ipython",
    "version": 3
   },
   "file_extension": ".py",
   "mimetype": "text/x-python",
   "name": "python",
   "nbconvert_exporter": "python",
   "pygments_lexer": "ipython3",
   "version": "3.10.10"
  },
  "orig_nbformat": 4
 },
 "nbformat": 4,
 "nbformat_minor": 2
}
